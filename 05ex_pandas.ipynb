{
 "cells": [
  {
   "cell_type": "markdown",
   "metadata": {},
   "source": [
    "1\\. **Pandas DataFrame**\n",
    "\n",
    "This exercise consists in analyzing a dataset containg timing information from a series of Time-to-Digital-Converters (TDC) implemented in a pair of FPGAs. Each measurement (i.e. each row of the input file) consists of a flag that specifies the type of message ('HEAD', which in this case is always 1), two addresses of the TDC providing the signal ('FPGA' and 'TDC_CHANNEL'), and the timing information ('ORBIT_CNT', 'BX_COUNTER', and 'TDC_MEAS'). Each TDC count corresponds to 25/30 ns, whereas a unit of BX_COUNTER corresponds to 25 ns, and the ORBIT_CNT is increased every `x` BX_COUNTER. This allows to store the time in a similar way to hours, minutes and seconds."
   ]
  },
  {
   "cell_type": "code",
   "execution_count": 1,
   "metadata": {},
   "outputs": [],
   "source": [
    "# If haven't downloaded it yet, please get the data file with wget\n",
    "#!wget https://www.dropbox.com/s/xvjzaxzz3ysphme/data_000637.txt -P ./data/"
   ]
  },
  {
   "cell_type": "markdown",
   "metadata": {},
   "source": [
    "1\\. Create a Pandas DataFrame reading N rows of the `data/data_000637.txt` dataset. Choose N to be smaller than or equal to the maximum number of rows and larger that 10k (check the documentation)."
   ]
  },
  {
   "cell_type": "code",
   "execution_count": 1,
   "metadata": {},
   "outputs": [
    {
     "name": "stdout",
     "output_type": "stream",
     "text": [
      "       HEAD  FPGA  TDC_CHANNEL   ORBIT_CNT  BX_COUNTER  TDC_MEAS\n",
      "0         1     0          123  3869200167        2374        26\n",
      "1         1     0          124  3869200167        2374        27\n",
      "2         1     0           63  3869200167        2553        28\n",
      "3         1     0           64  3869200167        2558        19\n",
      "4         1     0           64  3869200167        2760        25\n",
      "...     ...   ...          ...         ...         ...       ...\n",
      "19996     1     0           63  3869200366        2517         6\n",
      "19997     1     0           32  3869200366        2519         5\n",
      "19998     1     0           17  3869200366        2522        21\n",
      "19999     1     0           64  3869200366        2522         0\n",
      "20000     1     0           23  3869200366        2512        27\n",
      "\n",
      "[20001 rows x 6 columns]\n"
     ]
    }
   ],
   "source": [
    "import pandas as pd\n",
    "import numpy as np\n",
    "import datetime as dt\n",
    "\n",
    "N=20000\n",
    "data_tot=pd.read_csv('data/data_000637.txt',sep=\",\")\n",
    "data_tot=pd.DataFrame(data_tot)\n",
    "data=data_tot.loc[0:N]\n",
    "print(data)"
   ]
  },
  {
   "cell_type": "markdown",
   "metadata": {},
   "source": [
    "2\\. Estimate the number of BX in a ORBIT (the value `x`).\n",
    "\n",
    "*Hint*: check when the BX counter reaches the maximum value before being reset to 0."
   ]
  },
  {
   "cell_type": "code",
   "execution_count": 2,
   "metadata": {},
   "outputs": [
    {
     "name": "stdout",
     "output_type": "stream",
     "text": [
      "Estimated number of BX in a ORBIT:  3563\n"
     ]
    }
   ],
   "source": [
    "x=data['BX_COUNTER'].max()\n",
    "print(\"Estimated number of BX in a ORBIT: \",x)"
   ]
  },
  {
   "cell_type": "markdown",
   "metadata": {},
   "source": [
    "3\\. Create a new column with the absolute time in ns (as a combination of the other three columns with timing information) since the beginning of the data acquisition, and convert the new column to a Time Series."
   ]
  },
  {
   "cell_type": "code",
   "execution_count": 3,
   "metadata": {},
   "outputs": [
    {
     "name": "stdout",
     "output_type": "stream",
     "text": [
      "       HEAD  FPGA  TDC_CHANNEL   ORBIT_CNT  BX_COUNTER  TDC_MEAS       TIME_ns\n",
      "0         1     0          123  3869200167        2374        26  0.000000e+00\n",
      "1         1     0          124  3869200167        2374        27  8.125000e-01\n",
      "2         1     0           63  3869200167        2553        28  4.476625e+03\n",
      "3         1     0           64  3869200167        2558        19  4.594125e+03\n",
      "4         1     0           64  3869200167        2760        25  9.649125e+03\n",
      "...     ...   ...          ...         ...         ...       ...           ...\n",
      "19996     1     0           63  3869200366        2517         6  1.772948e+07\n",
      "19997     1     0           32  3869200366        2519         5  1.772953e+07\n",
      "19998     1     0           17  3869200366        2522        21  1.772962e+07\n",
      "19999     1     0           64  3869200366        2522         0  1.772960e+07\n",
      "20000     1     0           23  3869200366        2512        27  1.772938e+07\n",
      "\n",
      "[20001 rows x 7 columns]\n",
      "0                 0 days 00:00:00\n",
      "1                 0 days 00:00:00\n",
      "2       0 days 00:00:00.000004476\n",
      "3       0 days 00:00:00.000004594\n",
      "4       0 days 00:00:00.000009649\n",
      "                   ...           \n",
      "19996   0 days 00:00:00.017729483\n",
      "19997   0 days 00:00:00.017729532\n",
      "19998   0 days 00:00:00.017729620\n",
      "19999   0 days 00:00:00.017729603\n",
      "20000   0 days 00:00:00.017729375\n",
      "Name: TIME_ns, Length: 20001, dtype: timedelta64[ns]\n"
     ]
    },
    {
     "name": "stderr",
     "output_type": "stream",
     "text": [
      "<ipython-input-3-f009f54276e9>:2: SettingWithCopyWarning: \n",
      "A value is trying to be set on a copy of a slice from a DataFrame.\n",
      "Try using .loc[row_indexer,col_indexer] = value instead\n",
      "\n",
      "See the caveats in the documentation: https://pandas.pydata.org/pandas-docs/stable/user_guide/indexing.html#returning-a-view-versus-a-copy\n",
      "  data['TIME_ns']=(x*data['ORBIT_CNT']+data['BX_COUNTER'])*25+(25/30)*data['TDC_MEAS']-start\n"
     ]
    }
   ],
   "source": [
    "start=(x*data.loc[0,'ORBIT_CNT']+data.loc[0,'BX_COUNTER'])*25+(25/30)*data.loc[0,'TDC_MEAS']\n",
    "data['TIME_ns']=(x*data['ORBIT_CNT']+data['BX_COUNTER'])*25+(25/30)*data['TDC_MEAS']-start\n",
    "TimeSr=pd.to_timedelta(data['TIME_ns'])\n",
    "print(data)\n",
    "print(TimeSr)"
   ]
  },
  {
   "cell_type": "markdown",
   "metadata": {},
   "source": [
    "4\\. Find out the duration of the data taking in hours, minutes and seconds, by using the features of the Time Series. Perform this check reading the whole dataset."
   ]
  },
  {
   "cell_type": "code",
   "execution_count": 4,
   "metadata": {},
   "outputs": [
    {
     "name": "stdout",
     "output_type": "stream",
     "text": [
      "0         3 days 23:44:09.004934896\n",
      "1         3 days 23:44:09.004934897\n",
      "2         3 days 23:44:09.004939373\n",
      "3         3 days 23:44:09.004939490\n",
      "4         3 days 23:44:09.004944545\n",
      "                     ...           \n",
      "1310715   3 days 23:44:09.985075886\n",
      "1310716   3 days 23:44:09.985075909\n",
      "1310717   3 days 23:44:09.985075925\n",
      "1310718   3 days 23:44:09.985076050\n",
      "1310719   3 days 23:44:09.985075890\n",
      "Name: TIME_ns, Length: 1310720, dtype: timedelta64[ns]\n"
     ]
    }
   ],
   "source": [
    "data_tot['TIME_ns']=(x*data_tot['ORBIT_CNT']+data_tot['BX_COUNTER'])*25+(25/30)*data_tot['TDC_MEAS']\n",
    "TimeSr_tot=pd.to_timedelta(data_tot['TIME_ns'])\n",
    "print(TimeSr_tot)"
   ]
  },
  {
   "cell_type": "markdown",
   "metadata": {},
   "source": [
    "5\\. Use the `.groupby()` method to find out the noisy channels, i.e. the TDC channels with most counts (print to screen the top 3 and the corresponding counts)"
   ]
  },
  {
   "cell_type": "code",
   "execution_count": 5,
   "metadata": {},
   "outputs": [
    {
     "name": "stdout",
     "output_type": "stream",
     "text": [
      "Top 3 noisy channels: \n",
      "TDC_CHANNEL\n",
      "139    108059\n",
      "64      66020\n",
      "63      64642\n",
      "Name: TDC_CHANNEL, dtype: int64\n"
     ]
    }
   ],
   "source": [
    "tdc_counts=data_tot.groupby('TDC_CHANNEL')['TDC_CHANNEL'].count()\n",
    "tdc_counts=tdc_counts.sort_values(ascending=False)\n",
    "print('Top 3 noisy channels: \\n'+ str(tdc_counts.iloc[0:3]))"
   ]
  },
  {
   "cell_type": "markdown",
   "metadata": {},
   "source": [
    "6\\. Count the number of non-empty orbits (i.e. the number of orbits with at least one hit)."
   ]
  },
  {
   "cell_type": "code",
   "execution_count": 6,
   "metadata": {},
   "outputs": [
    {
     "name": "stdout",
     "output_type": "stream",
     "text": [
      "Number of non-empty orbits:  11001\n"
     ]
    }
   ],
   "source": [
    "orb_non_empty=data_tot['ORBIT_CNT'].nunique()\n",
    "print('Number of non-empty orbits: ',orb_non_empty)"
   ]
  },
  {
   "cell_type": "markdown",
   "metadata": {},
   "source": [
    "7\\. Count the number of unique orbits with at least one measurement from TDC_CHANNEL=139."
   ]
  },
  {
   "cell_type": "code",
   "execution_count": 7,
   "metadata": {},
   "outputs": [
    {
     "name": "stdout",
     "output_type": "stream",
     "text": [
      "Number of unique orbits with TDC_CHANNEL=139:  10976\n"
     ]
    }
   ],
   "source": [
    "orb=data_tot.query('TDC_CHANNEL==139')\n",
    "n_orb=orb['ORBIT_CNT'].nunique()\n",
    "print('Number of unique orbits with TDC_CHANNEL=139: ',n_orb)"
   ]
  },
  {
   "cell_type": "markdown",
   "metadata": {},
   "source": [
    "8\\. Create two Series (one for each FPGA) that have the TDC channel as index, and the number of counts for the corresponding TDC channel as values."
   ]
  },
  {
   "cell_type": "code",
   "execution_count": 8,
   "metadata": {},
   "outputs": [
    {
     "name": "stdout",
     "output_type": "stream",
     "text": [
      "FPGA=0\n",
      " 1       1215\n",
      "2       1602\n",
      "3       1493\n",
      "4       2352\n",
      "5       1432\n",
      "       ...  \n",
      "129        2\n",
      "130       33\n",
      "137       32\n",
      "138       34\n",
      "139    75617\n",
      "Length: 124, dtype: int64\n",
      "FPGA=1\n",
      " 1      28438\n",
      "2      32669\n",
      "3      21970\n",
      "4      26403\n",
      "5      15003\n",
      "       ...  \n",
      "129       35\n",
      "130       38\n",
      "137       36\n",
      "138       36\n",
      "139    32442\n",
      "Length: 132, dtype: int64\n"
     ]
    }
   ],
   "source": [
    "fpga0=data_tot.query('FPGA==0')\n",
    "fpga1=data_tot.query('FPGA==1')\n",
    "\n",
    "sr0=fpga0.groupby('TDC_CHANNEL')['TDC_CHANNEL'].count()\n",
    "sr1=fpga1.groupby('TDC_CHANNEL')['TDC_CHANNEL'].count()\n",
    "\n",
    "index0=np.array(sr0.index)\n",
    "index1=np.array(sr1.index)\n",
    "\n",
    "value0=np.array(sr0.values)\n",
    "value1=np.array(sr1.values)\n",
    "\n",
    "sr0=pd.Series(value0, index=index0)\n",
    "sr1=pd.Series(value1, index=index1)\n",
    "\n",
    "print('FPGA=0\\n',sr0)\n",
    "print('FPGA=1\\n',sr1)"
   ]
  },
  {
   "cell_type": "markdown",
   "metadata": {},
   "source": [
    "9\\. **Optional:** Create two histograms (one for each FPGA) that show the number of counts for each TDC channel."
   ]
  },
  {
   "cell_type": "code",
   "execution_count": 9,
   "metadata": {},
   "outputs": [
    {
     "data": {
      "image/png": "[encoded data removed]",
      "text/plain": [
       "<Figure size 1296x576 with 1 Axes>"
      ]
     },
     "metadata": {
      "needs_background": "light"
     },
     "output_type": "display_data"
    },
    {
     "data": {
      "image/png": "[encoded data removed]",
      "text/plain": [
       "<Figure size 1296x576 with 1 Axes>"
      ]
     },
     "metadata": {
      "needs_background": "light"
     },
     "output_type": "display_data"
    }
   ],
   "source": [
    "import matplotlib.pyplot as plt\n",
    "import matplotlib\n",
    "from matplotlib.ticker import AutoMinorLocator, MultipleLocator\n",
    "\n",
    "fig = plt.figure(figsize=(18, 8)) \n",
    "h, bins, _ = plt.hist(fpga0['TDC_CHANNEL'],color='orange', edgecolor='black',bins=139)\n",
    "ax = fig.axes[0]\n",
    "ax.set_title('FPGA=0')\n",
    "ax.set_xlabel('TDC_CHANNEL')\n",
    "ax.set_ylabel('COUNTS')\n",
    "ax.yaxis.set_minor_locator(AutoMinorLocator(4))\n",
    "ax.tick_params(which='minor', length=4)\n",
    "ax.grid(linestyle=\"--\", linewidth=0.5, color='.25', zorder=-10)\n",
    "\n",
    "fig1 = plt.figure(figsize=(18, 8)) \n",
    "h, bins, _ = plt.hist(fpga1['TDC_CHANNEL'],color='green', edgecolor='black',bins=139)\n",
    "ax1 = fig1.axes[0]\n",
    "ax1.set_title('FPGA=1')\n",
    "ax1.set_xlabel('TDC_CHANNEL')\n",
    "ax1.set_ylabel('COUNTS')\n",
    "ax1.yaxis.set_minor_locator(AutoMinorLocator(4))\n",
    "ax1.tick_params(which='minor', length=4)\n",
    "ax1.grid(linestyle=\"--\", linewidth=0.5, color='.25', zorder=-10)"
   ]
  },
  {
   "cell_type": "code",
   "execution_count": null,
   "metadata": {},
   "outputs": [],
   "source": []
  }
 ],
 "metadata": {
  "kernelspec": {
   "display_name": "Python 3",
   "language": "python",
   "name": "python3"
  },
  "language_info": {
   "codemirror_mode": {
    "name": "ipython",
    "version": 3
   },
   "file_extension": ".py",
   "mimetype": "text/x-python",
   "name": "python",
   "nbconvert_exporter": "python",
   "pygments_lexer": "ipython3",
   "version": "3.8.10"
  }
 },
 "nbformat": 4,
 "nbformat_minor": 2
}
