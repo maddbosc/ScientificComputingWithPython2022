{
 "cells": [
  {
   "cell_type": "markdown",
   "metadata": {},
   "source": [
    "1\\. **Reductions**\n",
    "\n",
    "Find the total mean, and the mean for each row and column of the following matrix:\n",
    "\n",
    "```python\n",
    "m = np.arange(12).reshape((3,4))\n",
    "```"
   ]
  },
  {
   "cell_type": "code",
   "execution_count": 1,
   "metadata": {},
   "outputs": [
    {
     "name": "stdout",
     "output_type": "stream",
     "text": [
      "Total Mean = 5.5\n",
      "Mean for each row: [1.5 5.5 9.5]\n",
      "Mean for each column: [4. 5. 6. 7.]\n"
     ]
    }
   ],
   "source": [
    "import numpy as np\n",
    "m = np.arange(12).reshape((3,4))\n",
    "print('Total Mean = '+str(np.mean(m)))\n",
    "print('Mean for each row: '+str(np.mean(m,1)))\n",
    "print('Mean for each column: '+str(np.mean(m,0)))"
   ]
  },
  {
   "cell_type": "markdown",
   "metadata": {},
   "source": [
    "2\\. **Outer product**\n",
    "\n",
    "Find the outer product of the following vectors:\n",
    "\n",
    "```python\n",
    "u = np.array([1, 3, 5, 7])\n",
    "v = np.array([2, 4, 6, 8])\n",
    "```\n",
    "\n",
    "Use different methods to do this:\n",
    "\n",
    "   1. Using the function `outer` in numpy\n",
    "   2. Using a nested `for` loop or a list comprehension\n",
    "   3. Using numpy broadcasting operations"
   ]
  },
  {
   "cell_type": "code",
   "execution_count": 2,
   "metadata": {},
   "outputs": [
    {
     "name": "stdout",
     "output_type": "stream",
     "text": [
      "First method: \n",
      "[[ 2  4  6  8]\n",
      " [ 6 12 18 24]\n",
      " [10 20 30 40]\n",
      " [14 28 42 56]]\n",
      "\n",
      "Second method: \n",
      "[[ 2  4  6  8]\n",
      " [ 6 12 18 24]\n",
      " [10 20 30 40]\n",
      " [14 28 42 56]]\n",
      "\n",
      "Third method: \n",
      "[[ 2  4  6  8]\n",
      " [ 6 12 18 24]\n",
      " [10 20 30 40]\n",
      " [14 28 42 56]]\n"
     ]
    }
   ],
   "source": [
    "u = np.array([1, 3, 5, 7])\n",
    "v = np.array([2, 4, 6, 8])\n",
    "\n",
    "#first method\n",
    "z1 = np.outer(u,v)\n",
    "print('First method: '+'\\n'+str(z1)+'\\n')\n",
    "\n",
    "#second method\n",
    "z2=[x*y for x in u for y in v]\n",
    "z2=np.array(z2).reshape(len(u),len(u))\n",
    "print('Second method: '+'\\n'+str(z2)+'\\n')\n",
    "\n",
    "#third method\n",
    "u_trans=np.atleast_2d(u).T\n",
    "z3=u_trans*v\n",
    "print('Third method: '+'\\n'+str(z3))"
   ]
  },
  {
   "cell_type": "markdown",
   "metadata": {},
   "source": [
    "3\\. **Matrix masking**\n",
    "\n",
    "Create a 10 by 6 matrix of float random numbers, distributed between 0 and 3 according to a flat distribution.\n",
    "\n",
    "After creating the matrix, set all entries $< 0.3$ to zero using a mask."
   ]
  },
  {
   "cell_type": "code",
   "execution_count": 6,
   "metadata": {},
   "outputs": [
    {
     "name": "stdout",
     "output_type": "stream",
     "text": [
      "[[1.4286883  1.3913698  0.87107172 2.83068963 0.7665989  2.20100073]\n",
      " [2.12851776 2.67636643 0.60666916 2.37037316 2.48045785 2.05804313]\n",
      " [0.4578639  2.12338661 0.17475358 2.53998107 2.42357844 2.95996964]\n",
      " [1.71820847 0.48724303 1.55509406 0.48971493 1.29672124 0.81725093]\n",
      " [0.92658996 1.46157352 1.07801428 2.52312128 1.45268766 2.58843674]\n",
      " [2.9526857  2.00678777 1.76610836 0.45474956 1.41541294 1.95494163]\n",
      " [2.88827837 0.43929277 1.03915613 2.23192252 1.36427413 0.90493382]\n",
      " [1.8637128  1.94496008 1.85315526 2.00107574 0.33543496 1.01669726]\n",
      " [1.81897428 1.83011791 1.25275114 0.19473259 0.92679528 0.88944889]\n",
      " [0.80197969 0.3793374  2.48709281 1.20416879 0.36900752 2.82758057]]\n",
      "After filtering:\n",
      "[[1.4286883  1.3913698  0.87107172 2.83068963 0.7665989  2.20100073]\n",
      " [2.12851776 2.67636643 0.60666916 2.37037316 2.48045785 2.05804313]\n",
      " [0.4578639  2.12338661 0.         2.53998107 2.42357844 2.95996964]\n",
      " [1.71820847 0.48724303 1.55509406 0.48971493 1.29672124 0.81725093]\n",
      " [0.92658996 1.46157352 1.07801428 2.52312128 1.45268766 2.58843674]\n",
      " [2.9526857  2.00678777 1.76610836 0.45474956 1.41541294 1.95494163]\n",
      " [2.88827837 0.43929277 1.03915613 2.23192252 1.36427413 0.90493382]\n",
      " [1.8637128  1.94496008 1.85315526 2.00107574 0.33543496 1.01669726]\n",
      " [1.81897428 1.83011791 1.25275114 0.         0.92679528 0.88944889]\n",
      " [0.80197969 0.3793374  2.48709281 1.20416879 0.36900752 2.82758057]]\n"
     ]
    }
   ],
   "source": [
    "import numpy.random as npr\n",
    "npr.seed(765)\n",
    "m=3*npr.rand(10, 6)\n",
    "print(m)\n",
    "mask=m<0.3\n",
    "print('After filtering:')\n",
    "m[mask]=0\n",
    "print(m)"
   ]
  },
  {
   "cell_type": "markdown",
   "metadata": {},
   "source": [
    "4\\. **Trigonometric functions**\n",
    "\n",
    "Use `np.linspace` to create an array of 100 numbers between $0$ and $2\\pi$ (inclusive).\n",
    "\n",
    "  * Extract every 10th element using the slice notation\n",
    "  * Reverse the array using the slice notation\n",
    "  * Extract elements where the absolute difference between the `sin` and `cos` functions evaluated for that element is $< 0.1$\n",
    "  * **Optional**: make a plot showing the sin and cos functions and indicate where they are close"
   ]
  },
  {
   "cell_type": "code",
   "execution_count": 7,
   "metadata": {},
   "outputs": [
    {
     "name": "stdout",
     "output_type": "stream",
     "text": [
      "Array: \n",
      "[0.         0.06346652 0.12693304 0.19039955 0.25386607 0.31733259\n",
      " 0.38079911 0.44426563 0.50773215 0.57119866 0.63466518 0.6981317\n",
      " 0.76159822 0.82506474 0.88853126 0.95199777 1.01546429 1.07893081\n",
      " 1.14239733 1.20586385 1.26933037 1.33279688 1.3962634  1.45972992\n",
      " 1.52319644 1.58666296 1.65012947 1.71359599 1.77706251 1.84052903\n",
      " 1.90399555 1.96746207 2.03092858 2.0943951  2.15786162 2.22132814\n",
      " 2.28479466 2.34826118 2.41172769 2.47519421 2.53866073 2.60212725\n",
      " 2.66559377 2.72906028 2.7925268  2.85599332 2.91945984 2.98292636\n",
      " 3.04639288 3.10985939 3.17332591 3.23679243 3.30025895 3.36372547\n",
      " 3.42719199 3.4906585  3.55412502 3.61759154 3.68105806 3.74452458\n",
      " 3.8079911  3.87145761 3.93492413 3.99839065 4.06185717 4.12532369\n",
      " 4.1887902  4.25225672 4.31572324 4.37918976 4.44265628 4.5061228\n",
      " 4.56958931 4.63305583 4.69652235 4.75998887 4.82345539 4.88692191\n",
      " 4.95038842 5.01385494 5.07732146 5.14078798 5.2042545  5.26772102\n",
      " 5.33118753 5.39465405 5.45812057 5.52158709 5.58505361 5.64852012\n",
      " 5.71198664 5.77545316 5.83891968 5.9023862  5.96585272 6.02931923\n",
      " 6.09278575 6.15625227 6.21971879 6.28318531]\n",
      "Slice: \n",
      "[0.57119866 1.20586385 1.84052903 2.47519421 3.10985939 3.74452458\n",
      " 4.37918976 5.01385494 5.64852012 6.28318531]\n",
      "Reversed array: \n",
      "[6.28318531 6.21971879 6.15625227 6.09278575 6.02931923 5.96585272\n",
      " 5.9023862  5.83891968 5.77545316 5.71198664 5.64852012 5.58505361\n",
      " 5.52158709 5.45812057 5.39465405 5.33118753 5.26772102 5.2042545\n",
      " 5.14078798 5.07732146 5.01385494 4.95038842 4.88692191 4.82345539\n",
      " 4.75998887 4.69652235 4.63305583 4.56958931 4.5061228  4.44265628\n",
      " 4.37918976 4.31572324 4.25225672 4.1887902  4.12532369 4.06185717\n",
      " 3.99839065 3.93492413 3.87145761 3.8079911  3.74452458 3.68105806\n",
      " 3.61759154 3.55412502 3.4906585  3.42719199 3.36372547 3.30025895\n",
      " 3.23679243 3.17332591 3.10985939 3.04639288 2.98292636 2.91945984\n",
      " 2.85599332 2.7925268  2.72906028 2.66559377 2.60212725 2.53866073\n",
      " 2.47519421 2.41172769 2.34826118 2.28479466 2.22132814 2.15786162\n",
      " 2.0943951  2.03092858 1.96746207 1.90399555 1.84052903 1.77706251\n",
      " 1.71359599 1.65012947 1.58666296 1.52319644 1.45972992 1.3962634\n",
      " 1.33279688 1.26933037 1.20586385 1.14239733 1.07893081 1.01546429\n",
      " 0.95199777 0.88853126 0.82506474 0.76159822 0.6981317  0.63466518\n",
      " 0.57119866 0.50773215 0.44426563 0.38079911 0.31733259 0.25386607\n",
      " 0.19039955 0.12693304 0.06346652 0.        ]\n",
      "Elements where |sin(x)-cos(x)|<0.1: \n",
      "[0.7615982190520711, 0.8250647373064104, 3.8714576135146945, 3.934924131769034]\n"
     ]
    },
    {
     "data": {
      "image/png": "[encoded data removed]",
      "text/plain": [
       "<Figure size 432x288 with 1 Axes>"
      ]
     },
     "metadata": {
      "needs_background": "light"
     },
     "output_type": "display_data"
    }
   ],
   "source": [
    "import math\n",
    "\n",
    "x=np.linspace(0,2*math.pi,100)\n",
    "print('Array: \\n'+ str(x))\n",
    "\n",
    "slice=x[9::10]\n",
    "print('Slice: \\n'+str(slice))\n",
    "\n",
    "x_rev=x[::-1]\n",
    "print('Reversed array: \\n'+ str(x_rev))\n",
    "\n",
    "y=[xx for xx in x if abs(math.sin(xx)-math.cos(xx))<0.1]\n",
    "print('Elements where |sin(x)-cos(x)|<0.1: \\n'+str(y))\n",
    "\n",
    "import matplotlib.pyplot as plt\n",
    "s=[math.sin(xx) for xx in x]\n",
    "c=[math.cos(xx) for xx in x]\n",
    "plt.plot(x, s)\n",
    "plt.plot(x, c)\n",
    "plt.show()"
   ]
  },
  {
   "cell_type": "markdown",
   "metadata": {},
   "source": [
    "5\\. **Matrices**\n",
    "\n",
    "Create a matrix that shows the 10 by 10 multiplication table.\n",
    "\n",
    " * Find the trace of the matrix\n",
    " * Extract the anti-diagonal matrix (this should be ```array([10, 18, 24, 28, 30, 30, 28, 24, 18, 10])```)\n",
    " * Extract the diagonal offset by 1 upwards (this should be ```array([ 2,  6, 12, 20, 30, 42, 56, 72, 90])```)"
   ]
  },
  {
   "cell_type": "code",
   "execution_count": 8,
   "metadata": {},
   "outputs": [
    {
     "name": "stdout",
     "output_type": "stream",
     "text": [
      "10 by 10 multiplication table: \n",
      "[[  1   2   3   4   5   6   7   8   9  10]\n",
      " [  2   4   6   8  10  12  14  16  18  20]\n",
      " [  3   6   9  12  15  18  21  24  27  30]\n",
      " [  4   8  12  16  20  24  28  32  36  40]\n",
      " [  5  10  15  20  25  30  35  40  45  50]\n",
      " [  6  12  18  24  30  36  42  48  54  60]\n",
      " [  7  14  21  28  35  42  49  56  63  70]\n",
      " [  8  16  24  32  40  48  56  64  72  80]\n",
      " [  9  18  27  36  45  54  63  72  81  90]\n",
      " [ 10  20  30  40  50  60  70  80  90 100]]\n",
      "Anti-diagonal: \n",
      "[10 18 24 28 30 30 28 24 18 10]\n",
      "Diagonal offset by 1 upwards: \n",
      "[ 2  6 12 20 30 42 56 72 90]\n"
     ]
    }
   ],
   "source": [
    "u=np.arange(1,11)\n",
    "u_trans=np.atleast_2d(u).T\n",
    "v=u*u_trans\n",
    "print('10 by 10 multiplication table: \\n'+str(v))\n",
    "\n",
    "x=np.fliplr(v).diagonal()\n",
    "print('Anti-diagonal: \\n'+str(x))\n",
    "\n",
    "z=v[1:,:-1].diagonal()\n",
    "print('Diagonal offset by 1 upwards: \\n'+str(z))"
   ]
  },
  {
   "cell_type": "markdown",
   "metadata": {},
   "source": [
    "6\\. **Broadcasting**\n",
    "\n",
    "Use broadcasting to create a grid of distances.\n",
    "\n",
    "Route 66 crosses the following cities in the US: Chicago, Springfield, Saint-Louis, Tulsa, Oklahoma City, Amarillo, Santa Fe, Albuquerque, Flagstaff, Los Angeles.\n",
    "\n",
    "The corresponding positions in miles are: 0, 198, 303, 736, 871, 1175, 1475, 1544, 1913, 2448\n",
    "\n",
    "  * Build a 2D grid of distances among each city along Route 66\n",
    "  * Convert the distances in km"
   ]
  },
  {
   "cell_type": "code",
   "execution_count": 9,
   "metadata": {},
   "outputs": [
    {
     "name": "stdout",
     "output_type": "stream",
     "text": [
      "Grid of distances in miles: \n",
      "[[   0  198  303  736  871 1175 1475 1544 1913 2448]\n",
      " [ 198    0  105  538  673  977 1277 1346 1715 2250]\n",
      " [ 303  105    0  433  568  872 1172 1241 1610 2145]\n",
      " [ 736  538  433    0  135  439  739  808 1177 1712]\n",
      " [ 871  673  568  135    0  304  604  673 1042 1577]\n",
      " [1175  977  872  439  304    0  300  369  738 1273]\n",
      " [1475 1277 1172  739  604  300    0   69  438  973]\n",
      " [1544 1346 1241  808  673  369   69    0  369  904]\n",
      " [1913 1715 1610 1177 1042  738  438  369    0  535]\n",
      " [2448 2250 2145 1712 1577 1273  973  904  535    0]]\n",
      "Grid of distances in km: \n",
      "[[   0.     318.582  487.527 1184.224 1401.439 1890.575 2373.275 2484.296\n",
      "  3078.017 3938.832]\n",
      " [ 318.582    0.     168.945  865.642 1082.857 1571.993 2054.693 2165.714\n",
      "  2759.435 3620.25 ]\n",
      " [ 487.527  168.945    0.     696.697  913.912 1403.048 1885.748 1996.769\n",
      "  2590.49  3451.305]\n",
      " [1184.224  865.642  696.697    0.     217.215  706.351 1189.051 1300.072\n",
      "  1893.793 2754.608]\n",
      " [1401.439 1082.857  913.912  217.215    0.     489.136  971.836 1082.857\n",
      "  1676.578 2537.393]\n",
      " [1890.575 1571.993 1403.048  706.351  489.136    0.     482.7    593.721\n",
      "  1187.442 2048.257]\n",
      " [2373.275 2054.693 1885.748 1189.051  971.836  482.7      0.     111.021\n",
      "   704.742 1565.557]\n",
      " [2484.296 2165.714 1996.769 1300.072 1082.857  593.721  111.021    0.\n",
      "   593.721 1454.536]\n",
      " [3078.017 2759.435 2590.49  1893.793 1676.578 1187.442  704.742  593.721\n",
      "     0.     860.815]\n",
      " [3938.832 3620.25  3451.305 2754.608 2537.393 2048.257 1565.557 1454.536\n",
      "   860.815    0.   ]]\n"
     ]
    }
   ],
   "source": [
    "u=np.array([0, 198, 303, 736, 871, 1175, 1475, 1544, 1913, 2448])\n",
    "u_trans=np.atleast_2d(u).T\n",
    "v=abs(u-u_trans)\n",
    "print('Grid of distances in miles: \\n'+str(v))\n",
    "\n",
    "z=1.609*v\n",
    "print('Grid of distances in km: \\n'+str(z))"
   ]
  },
  {
   "cell_type": "markdown",
   "metadata": {},
   "source": [
    "7\\. **Prime numbers sieve**\n",
    "\n",
    "Compute the prime numbers in the 0-N (start with N=99) range with a sieve (mask).\n",
    "\n",
    "  * Constract a shape (N,) boolean array, which is the mask\n",
    "  * Identify the multiples of each number starting from 2 and set accordingly the corresponding mask element\n",
    "  * Apply the mask to obtain an array of ordered prime numbers\n",
    "  * Check the performances (with `timeit`); how does it scale with N?\n",
    "  * Implement the optimization suggested in the [sieve of Eratosthenes](https://en.wikipedia.org/wiki/Sieve_of_Eratosthenes)"
   ]
  },
  {
   "cell_type": "code",
   "execution_count": 13,
   "metadata": {},
   "outputs": [
    {
     "name": "stdout",
     "output_type": "stream",
     "text": [
      "Prime numbers in the 0-99: \n",
      "[ 1  2  3  5  7 11 13 17 19 23 29 31 37 41 43 47 53 59 61 67 71 73 79 83\n",
      " 89 97]\n",
      "244 µs ± 58.9 µs per loop (mean ± std. dev. of 7 runs, 1000 loops each)\n",
      "Prime numbers with Sieve of Eratosthenes Algorithm: \n",
      "[ 1  2  3  5  7 11 13 17 19 23 29 31 37 41 43 47 53 59 61 67 71 73 79 83\n",
      " 89 97]\n",
      "195 µs ± 78.9 µs per loop (mean ± std. dev. of 7 runs, 1000 loops each)\n"
     ]
    }
   ],
   "source": [
    "N=99\n",
    "\n",
    "\n",
    "def is_prime(n):\n",
    "    if n==0:\n",
    "        return False\n",
    "    for i in range(2,n):\n",
    "        if n%i==0:\n",
    "            return False\n",
    "    return True\n",
    "\n",
    "def prime_numbers(n):\n",
    "    x=np.arange(n+1)\n",
    "    mask1=[is_prime(xx) for xx in x]\n",
    "    prime_n=x[mask1]\n",
    "    return prime_n\n",
    "\n",
    "print('Prime numbers in the 0-'+str(N)+': \\n'+str(prime_numbers(N)))\n",
    "\n",
    "%timeit prime_numbers(N)\n",
    "#211 µs ± 49.6 µs per loop (mean ± std. dev. of 7 runs, 1000 loops each) with N=99\n",
    "#528 µs ± 17.3 µs per loop (mean ± std. dev. of 7 runs, 1000 loops each) with 2*N\n",
    "#9.6 ms ± 1.46 ms per loop (mean ± std. dev. of 7 runs, 10 loops each) with 10*N\n",
    "#694 ms ± 53.7 ms per loop (mean ± std. dev. of 7 runs, 1 loop each) with 100*N\n",
    "#The performances scale (approximately) linearly with N\n",
    "\n",
    "def sieve_of_Eratostene(n):\n",
    "    x=np.arange(1,n+1)\n",
    "    mask2=[True for i in range(1,n+1)]\n",
    "    for i in np.arange(2,round(math.sqrt(n))+1,1):\n",
    "        if mask2[i-1]==True:\n",
    "            y=[i**2+a*i for a in np.arange(0,n) if i**2+a*i<=n]\n",
    "            for j in y:\n",
    "                mask2[j-1]=False\n",
    "    return x[mask2]\n",
    "print('Prime numbers with Sieve of Eratosthenes Algorithm: \\n'+str(sieve_of_Eratostene(N)))\n",
    "\n",
    "%timeit sieve_of_Eratostene(N)\n",
    "#131 µs ± 22.5 µs per loop (mean ± std. dev. of 7 runs, 10000 loops each) with N=99\n",
    "\n",
    "\n"
   ]
  },
  {
   "cell_type": "markdown",
   "metadata": {},
   "source": [
    "8\\. **Diffusion using random walk**\n",
    "\n",
    "Consider a simple random walk process: at each step in time, a walker jumps right or left (+1 or -1) with equal probability. The goal is to find the typical distance from the origin of many random walkers after a given amount of time.\n",
    "\n",
    "*Hint*: create a 2D array where each row represents a walker, and each column represents a time step.\n",
    "\n",
    "  * Take 1000 walkers and let them walk for 200 steps\n",
    "  * Use `randint` to create a 2D array of size $walkers \\times steps$ with values -1 or 1\n",
    "  * Calculate the walking distances for each walker (e.g. by summing the elements in each row)\n",
    "  * Take the square of the previously-obtained array (element-wise)\n",
    "  * Compute the mean of the squared distances at each step (i.e. the mean along the columns)\n",
    "  * **Optional**: plot the average distances ($\\sqrt(distance^2)$) as a function of time (step)"
   ]
  },
  {
   "cell_type": "code",
   "execution_count": 14,
   "metadata": {},
   "outputs": [
    {
     "name": "stdout",
     "output_type": "stream",
     "text": [
      "Walkers x Steps: \n",
      "[[-1 -1  1 ... -1 -1 -1]\n",
      " [ 1  1 -1 ...  1  1  1]\n",
      " [ 1  1 -1 ... -1 -1 -1]\n",
      " ...\n",
      " [-1 -1  1 ... -1  1  1]\n",
      " [ 1  1  1 ...  1 -1 -1]\n",
      " [ 1 -1 -1 ...  1 -1  1]]\n",
      "Distances for each walker: \n",
      "[-20  12   2   6   0  -4  -8   8 -18   0   6   0  -8   8  20  28  20  10\n",
      "   8  -4   6 -12  26   2  -6  12 -18  -6 -14 -14 -22 -18 -26  10  -2 -16\n",
      "   8   6 -10  22  -6  10  -4  -6  -2 -16   2   0  10  16 -18   8  10  24\n",
      "   4 -18 -24  14   6  -6  24 -18  -2  -6  22  24   6  -2 -14  -2   2  20\n",
      "  -2   8  -4 -12  -6   8   6  44  14  14  12  -4   0 -10 -40  14  -6  16\n",
      "  16  32  16  12 -12   4  12  14  14  -2   2 -10  -4 -18  -4  22  24  24\n",
      " -14   6   4   4  -8  -8  18  22 -10  10  10 -12 -52  12  -6   0   0 -24\n",
      "  -8   6  12  14  14   2  14  10   0  -4   6  -8  12   2 -28  -2 -28 -20\n",
      "   2  -2  -2  18  28  10  10  10  18   2  16   0 -22 -12  18  14  -6  10\n",
      "  12 -12 -10 -10  -6   4 -14  -4  -4   6  -8 -14  -2 -20   0 -16  -6   6\n",
      "  14   4 -22  18  12 -22  18  14  26  18  -8   2  10  -4  16  -4  18   6\n",
      "  -4  26   4 -10   6   4  10  -4   6  -6  -2  18  -2 -12  -4  22  -2   8\n",
      "  16  12  18  22   8  -2   4 -22  -8  12  -8   2 -14   4  -4 -26  24 -10\n",
      "  -6  14   4  20 -28   8  -6  -6 -18   8  -2  -8   2  -2  12 -14 -22   4\n",
      "  -6   8 -22  -8  10 -26 -22   0   6  -8   2  -6  20  -8  10  18   2   6\n",
      " -14  -4 -20 -12  -6  -6   4 -14  -6   0 -16 -12   6 -16  -2 -26 -30  12\n",
      " -14   8   2 -10   6 -14   6  -6   8 -22   0  -4   6  10  10   0  -8   4\n",
      "  12  -2  16  -4  20 -12   0   2 -16   8  26 -10  16  -6  12 -32   8   2\n",
      " -20 -18  -6  24  -4 -22   2 -18  -6  22 -10   8 -10 -10  20   8 -24 -14\n",
      "   2  -4  -6   8   0   0  14  12  22   2 -18   2  34   0  -8  -6  -6  -4\n",
      " -18 -12   2  14 -26 -16  18 -28  -2   0   6 -28  -2  10   4  -8  30  -6\n",
      " -10 -26 -12  22   8   0   8  12   4 -28 -14 -10  28  10  14  20  10  -4\n",
      "  -6   8 -14   4 -10  -8  -2 -14   4  -4 -10  -4  -8  16  -4  18 -10  34\n",
      "  18   0   0 -22  26  18  14  10  36   8  12 -14   0  -2  -2  -8  22  -2\n",
      "  24  20   0  10 -16 -22  10 -14  -4  14  -2 -18  16   4 -10  -2 -14  -6\n",
      "   2 -20  22 -14  30  12  -4  16 -34  -6  16  -6   8 -22 -24   2   2  10\n",
      "  10  10  20  12  -6   0  -8   0  -4 -22   6 -22   4 -16 -10 -12 -12  10\n",
      " -10  -6  28   2  18  -8 -36  14   4  12 -22  24  10 -16 -18 -20  12  -6\n",
      "  -4 -12   0  -6 -20  12   0   8  -4  14  -4 -10   8   0 -22  -6   8   0\n",
      "   6 -12  20  12   2  -4  10   4   8   2  -6  -6 -16   0   4 -12  10 -10\n",
      "  -4 -28 -10  -4  10 -26 -12  -2   6 -14  -8  -2   6  -2  -8 -26  12  18\n",
      "  -2  20  -2  -4   4  -6  -6 -16  32   4 -10  -4  12  10 -14 -22 -16  12\n",
      "  -8   0  14 -18   6   0   8 -28 -18   2  12 -22  16  28 -16   0  14   6\n",
      "  10 -32   2  24  10 -10  22  20   6  -8  12   2  -2 -20 -28  -4 -12   4\n",
      "   6 -18 -14  30  -2  -4   0  24  10  -4   6  20   4  26  28  -4   2  -8\n",
      " -22 -20   8  -2  10 -20   6  -4  -2  -8   2 -16   6 -20  -2  16  16  16\n",
      "   2  -2 -14  -2  -6 -10  16   2  -4   6   0  36  12  -4  -2   4  12  -4\n",
      "  16   2 -12 -22  12  14  16   6 -10 -10  14 -14   6  24   4 -10  20  -4\n",
      "   8   0 -22  10  -8  20  -2   6  -4  -4   8 -26  -2  -8  -2   8   4  30\n",
      "  -2  -6  12  -2  18 -22  18  14  -8  22   8 -16   6  -8  18 -26  -8 -14\n",
      "   0  22   6 -20  10 -20  -6 -30  10   2 -10 -10  18  16  -4  -4 -30   6\n",
      "  -2  28   4 -36 -22 -10   8   6   4  24   2   2   2 -10   4   4   2   8\n",
      "   6  10  14  10  -2   2  14  -6   8  22  -6  -8  -2  16  -8 -20 -10   2\n",
      "  -4  -8   4   4 -14  -6  -2 -26  -8 -28   8   2 -16 -12 -12  18 -12  -6\n",
      "   4   0   6  12   0   8  14 -22 -14  14  24 -10  16  -8   0 -12  42 -16\n",
      "  10   8  -2   2  -4 -20   8  10  -8 -12  -8  12  18   6 -10  12  -2   2\n",
      "  -8  -6  -2 -28   2   0 -24  -4  26 -24   2 -10   8  18   4  12 -28  -8\n",
      " -38  -6  -4 -12  30  18 -10   2  12 -10  -2  26  10   8  16 -10   0  -8\n",
      "  -6  -4  -2  -2  -4 -20   4 -18   0 -10 -26 -34  26  16  22  14 -14 -18\n",
      " -10  16  14 -12   0  -8   6   8  -6  -8 -14 -18 -24  24   0  -6   4 -20\n",
      " -12   0  -2  -2   2   8  -8 -18 -30 -12  10   8   0 -10 -10  -6  20 -12\n",
      "  -2 -22   2  30 -12 -26   6  14  -6  -2 -18   0 -30   0   6  -8   4  16\n",
      "   0  18   4   4 -24  34  -6 -14  10 -34   2   4 -16 -10   0  -6  18  12\n",
      " -14 -12   2 -12   6 -20  -6  16   0   8  -2 -22  12 -12  -6  -6  -8 -16\n",
      "  12   4 -14  -2  -2   8 -20 -14  18  22   6 -16  12   2   8  24  24  -4\n",
      " -10  18  10  20   6 -20  -2  14 -16  -8]\n",
      "Squared distances for each walker: \n",
      "[ 400  144    4   36    0   16   64   64  324    0   36    0   64   64\n",
      "  400  784  400  100   64   16   36  144  676    4   36  144  324   36\n",
      "  196  196  484  324  676  100    4  256   64   36  100  484   36  100\n",
      "   16   36    4  256    4    0  100  256  324   64  100  576   16  324\n",
      "  576  196   36   36  576  324    4   36  484  576   36    4  196    4\n",
      "    4  400    4   64   16  144   36   64   36 1936  196  196  144   16\n",
      "    0  100 1600  196   36  256  256 1024  256  144  144   16  144  196\n",
      "  196    4    4  100   16  324   16  484  576  576  196   36   16   16\n",
      "   64   64  324  484  100  100  100  144 2704  144   36    0    0  576\n",
      "   64   36  144  196  196    4  196  100    0   16   36   64  144    4\n",
      "  784    4  784  400    4    4    4  324  784  100  100  100  324    4\n",
      "  256    0  484  144  324  196   36  100  144  144  100  100   36   16\n",
      "  196   16   16   36   64  196    4  400    0  256   36   36  196   16\n",
      "  484  324  144  484  324  196  676  324   64    4  100   16  256   16\n",
      "  324   36   16  676   16  100   36   16  100   16   36   36    4  324\n",
      "    4  144   16  484    4   64  256  144  324  484   64    4   16  484\n",
      "   64  144   64    4  196   16   16  676  576  100   36  196   16  400\n",
      "  784   64   36   36  324   64    4   64    4    4  144  196  484   16\n",
      "   36   64  484   64  100  676  484    0   36   64    4   36  400   64\n",
      "  100  324    4   36  196   16  400  144   36   36   16  196   36    0\n",
      "  256  144   36  256    4  676  900  144  196   64    4  100   36  196\n",
      "   36   36   64  484    0   16   36  100  100    0   64   16  144    4\n",
      "  256   16  400  144    0    4  256   64  676  100  256   36  144 1024\n",
      "   64    4  400  324   36  576   16  484    4  324   36  484  100   64\n",
      "  100  100  400   64  576  196    4   16   36   64    0    0  196  144\n",
      "  484    4  324    4 1156    0   64   36   36   16  324  144    4  196\n",
      "  676  256  324  784    4    0   36  784    4  100   16   64  900   36\n",
      "  100  676  144  484   64    0   64  144   16  784  196  100  784  100\n",
      "  196  400  100   16   36   64  196   16  100   64    4  196   16   16\n",
      "  100   16   64  256   16  324  100 1156  324    0    0  484  676  324\n",
      "  196  100 1296   64  144  196    0    4    4   64  484    4  576  400\n",
      "    0  100  256  484  100  196   16  196    4  324  256   16  100    4\n",
      "  196   36    4  400  484  196  900  144   16  256 1156   36  256   36\n",
      "   64  484  576    4    4  100  100  100  400  144   36    0   64    0\n",
      "   16  484   36  484   16  256  100  144  144  100  100   36  784    4\n",
      "  324   64 1296  196   16  144  484  576  100  256  324  400  144   36\n",
      "   16  144    0   36  400  144    0   64   16  196   16  100   64    0\n",
      "  484   36   64    0   36  144  400  144    4   16  100   16   64    4\n",
      "   36   36  256    0   16  144  100  100   16  784  100   16  100  676\n",
      "  144    4   36  196   64    4   36    4   64  676  144  324    4  400\n",
      "    4   16   16   36   36  256 1024   16  100   16  144  100  196  484\n",
      "  256  144   64    0  196  324   36    0   64  784  324    4  144  484\n",
      "  256  784  256    0  196   36  100 1024    4  576  100  100  484  400\n",
      "   36   64  144    4    4  400  784   16  144   16   36  324  196  900\n",
      "    4   16    0  576  100   16   36  400   16  676  784   16    4   64\n",
      "  484  400   64    4  100  400   36   16    4   64    4  256   36  400\n",
      "    4  256  256  256    4    4  196    4   36  100  256    4   16   36\n",
      "    0 1296  144   16    4   16  144   16  256    4  144  484  144  196\n",
      "  256   36  100  100  196  196   36  576   16  100  400   16   64    0\n",
      "  484  100   64  400    4   36   16   16   64  676    4   64    4   64\n",
      "   16  900    4   36  144    4  324  484  324  196   64  484   64  256\n",
      "   36   64  324  676   64  196    0  484   36  400  100  400   36  900\n",
      "  100    4  100  100  324  256   16   16  900   36    4  784   16 1296\n",
      "  484  100   64   36   16  576    4    4    4  100   16   16    4   64\n",
      "   36  100  196  100    4    4  196   36   64  484   36   64    4  256\n",
      "   64  400  100    4   16   64   16   16  196   36    4  676   64  784\n",
      "   64    4  256  144  144  324  144   36   16    0   36  144    0   64\n",
      "  196  484  196  196  576  100  256   64    0  144 1764  256  100   64\n",
      "    4    4   16  400   64  100   64  144   64  144  324   36  100  144\n",
      "    4    4   64   36    4  784    4    0  576   16  676  576    4  100\n",
      "   64  324   16  144  784   64 1444   36   16  144  900  324  100    4\n",
      "  144  100    4  676  100   64  256  100    0   64   36   16    4    4\n",
      "   16  400   16  324    0  100  676 1156  676  256  484  196  196  324\n",
      "  100  256  196  144    0   64   36   64   36   64  196  324  576  576\n",
      "    0   36   16  400  144    0    4    4    4   64   64  324  900  144\n",
      "  100   64    0  100  100   36  400  144    4  484    4  900  144  676\n",
      "   36  196   36    4  324    0  900    0   36   64   16  256    0  324\n",
      "   16   16  576 1156   36  196  100 1156    4   16  256  100    0   36\n",
      "  324  144  196  144    4  144   36  400   36  256    0   64    4  484\n",
      "  144  144   36   36   64  256  144   16  196    4    4   64  400  196\n",
      "  324  484   36  256  144    4   64  576  576   16  100  324  100  400\n",
      "   36  400    4  196  256   64]\n",
      "Mean of the squared distances at each step: 994.24\n"
     ]
    },
    {
     "data": {
      "image/png": "[encoded data removed]",
      "text/plain": [
       "<Figure size 432x288 with 1 Axes>"
      ]
     },
     "metadata": {
      "needs_background": "light"
     },
     "output_type": "display_data"
    }
   ],
   "source": [
    "x=npr.randint(-1, 1, size=(1000, 200))\n",
    "mask=x==0\n",
    "x[mask]=1\n",
    "print('Walkers x Steps: \\n'+str(x))\n",
    "\n",
    "distances_w=np.sum(x,1)\n",
    "print('Distances for each walker: \\n'+str(distances_w))\n",
    "\n",
    "squared_d_w=distances_w**2\n",
    "print('Squared distances for each walker: \\n'+str(squared_d_w))\n",
    "\n",
    "distances_s=np.sum(x,0)\n",
    "squared_distances_s=distances_s**2\n",
    "mean=np.mean(squared_distances_s)\n",
    "print('Mean of the squared distances at each step: '+str(mean))\n",
    "\n",
    "time=np.arange(0,200)\n",
    "y=[math.sqrt(d) for d in squared_distances_s]\n",
    "plt.plot(time, y)\n",
    "plt.show()"
   ]
  },
  {
   "cell_type": "code",
   "execution_count": null,
   "metadata": {},
   "outputs": [],
   "source": []
  }
 ],
 "metadata": {
  "kernelspec": {
   "display_name": "Python 3",
   "language": "python",
   "name": "python3"
  },
  "language_info": {
   "codemirror_mode": {
    "name": "ipython",
    "version": 3
   },
   "file_extension": ".py",
   "mimetype": "text/x-python",
   "name": "python",
   "nbconvert_exporter": "python",
   "pygments_lexer": "ipython3",
   "version": "3.8.10"
  }
 },
 "nbformat": 4,
 "nbformat_minor": 2
}
